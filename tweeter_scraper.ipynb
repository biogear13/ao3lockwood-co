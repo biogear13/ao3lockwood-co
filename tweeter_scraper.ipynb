{
 "cells": [
  {
   "cell_type": "code",
   "execution_count": 1,
   "metadata": {},
   "outputs": [],
   "source": [
    "import configparser\n",
    "import tweepy\n",
    "import pandas as pd\n",
    "import numpy as np\n",
    "from datetime import datetime, timedelta, timezone\n",
    "import time"
   ]
  },
  {
   "cell_type": "code",
   "execution_count": 2,
   "metadata": {},
   "outputs": [],
   "source": [
    "# get tokens\n",
    "config = configparser.ConfigParser()\n",
    "config.read('configfile.ini')\n",
    "api_key = config['twitter']['api_key']\n",
    "api_key_secret = config['twitter']['api_key_secret']\n",
    "# authenticate\n",
    "auth = tweepy.OAuth2AppHandler(api_key, api_key_secret)"
   ]
  },
  {
   "cell_type": "code",
   "execution_count": 3,
   "metadata": {},
   "outputs": [],
   "source": [
    "api = tweepy.API(auth, wait_on_rate_limit=True)"
   ]
  },
  {
   "cell_type": "code",
   "execution_count": null,
   "metadata": {},
   "outputs": [
    {
     "data": {
      "text/plain": [
       "38556"
      ]
     },
     "execution_count": 6,
     "metadata": {},
     "output_type": "execute_result"
    }
   ],
   "source": [
    "len(working_df)"
   ]
  },
  {
   "cell_type": "code",
   "execution_count": 5,
   "metadata": {},
   "outputs": [],
   "source": [
    "def get_tweets_dataframe(working_df, tweets, hashtag):\n",
    "    #working_df=working_df.drop_duplicates()\n",
    "    index=len(working_df)\n",
    "    for tweet in tweets: \n",
    "        working_df.loc[index,'tweet_id']=tweet.id\n",
    "        working_df.loc[index,'created_at']=tweet.created_at\n",
    "        working_df.loc[index,'user']=tweet.user.screen_name\n",
    "        working_df.loc[index,'full_text']=tweet.full_text\n",
    "        working_df.loc[index,'favorite_count']=tweet.favorite_count\n",
    "        working_df.loc[index,'retweet_count']=tweet.retweet_count\n",
    "        working_df.loc[index,'hashtags']=hashtag\n",
    "        print(working_df.loc[index,'created_at'])\n",
    "        #working_df=working_df.drop_duplicates()\n",
    "        index+=1\n",
    "        working_df.to_csv(f'tweeterhashtags/{hashtag}.csv', index=False)\n",
    "        #time.sleep(1)\n",
    "    working_df=working_df.drop_duplicates()\n",
    "    working_df.to_csv(f'tweeterhashtags/{hashtag}.csv', index=False)               \n",
    "    return working_df"
   ]
  },
  {
   "cell_type": "code",
   "execution_count": 23,
   "metadata": {},
   "outputs": [],
   "source": [
    "hashtagsweek1 = ['#FridayNightatPortlandRow', '#HauntedWatchParty', '#WatchPartyatPortlandRow', '#HauntedbyaType3','#TogetherForLockwoodandCo','#PrimeForLockwoodandCo','#BringBackLockwoodandCo']\n",
    "hashtagsweek2 = ['#GhostHuntersWatchParty', '#DisneyForLockwoodandCo', '#BBCforLockwoodandCo', '#AppleTVforLockwoodandCo', '#PrimeForLockwoodandCo', '#JustRecklessEnough']\n",
    "hashtagsweek3 = ['#LockwoodGhostAuditions', '#ParamountForLockwoodandCo', '#ScullandCo','#RapiersReady', '#CaringforCarlyle', '#DEPRACisOnTheWay', '#BunsForBunchurch']\n",
    "hashtagsall = hashtagsweek1+hashtagsweek2+hashtagsweek3\n",
    "hashtagsall = list(set(hashtagsall))"
   ]
  },
  {
   "cell_type": "code",
   "execution_count": 32,
   "metadata": {},
   "outputs": [
    {
     "name": "stdout",
     "output_type": "stream",
     "text": [
      "#RapiersReady\n",
      "0\n",
      "0\n",
      "Series([], Freq: D, Name: hashtags, dtype: int64)\n"
     ]
    }
   ],
   "source": [
    "hashtags=['#RapiersReady']\n",
    "for hashtag in hashtags:\n",
    "    print(hashtag)\n",
    "    try:\n",
    "        working_df=pd.read_csv(f'tweeterhashtags/{hashtag}.csv')\n",
    "        print(len(working_df))\n",
    "    except:\n",
    "        working_df=pd.DataFrame(columns=['tweet_id','created_at', 'user', 'full_text','favorite_count','retweet_count','hashtags'])\n",
    "    tweets = tweepy.Cursor(api.search_tweets, q=hashtag, tweet_mode='extended').items()\n",
    "    working_df = get_tweets_dataframe(working_df, tweets, hashtag)\n",
    "    working_df=working_df.drop_duplicates()\n",
    "    print(len(working_df))\n",
    "    time.sleep(60)\n",
    "    working_df['created_at'] = pd.to_datetime(working_df['created_at'], utc=True)\n",
    "    # Group the DataFrame by day\n",
    "    grouped_df = working_df.groupby(pd.Grouper(key='created_at', freq='D'))\n",
    "\n",
    "    # Calculate the count of rows for each day\n",
    "    count_per_day = grouped_df['hashtags'].count()\n",
    "\n",
    "    # Display the count per day\n",
    "    print(count_per_day)\n"
   ]
  },
  {
   "cell_type": "code",
   "execution_count": 24,
   "metadata": {},
   "outputs": [
    {
     "data": {
      "text/html": [
       "<div>\n",
       "<style scoped>\n",
       "    .dataframe tbody tr th:only-of-type {\n",
       "        vertical-align: middle;\n",
       "    }\n",
       "\n",
       "    .dataframe tbody tr th {\n",
       "        vertical-align: top;\n",
       "    }\n",
       "\n",
       "    .dataframe thead th {\n",
       "        text-align: right;\n",
       "    }\n",
       "</style>\n",
       "<table border=\"1\" class=\"dataframe\">\n",
       "  <thead>\n",
       "    <tr style=\"text-align: right;\">\n",
       "      <th></th>\n",
       "      <th>tweet_id</th>\n",
       "      <th>created_at</th>\n",
       "      <th>user</th>\n",
       "      <th>full_text</th>\n",
       "      <th>favorite_count</th>\n",
       "      <th>retweet_count</th>\n",
       "      <th>hashtags</th>\n",
       "      <th>tweet_df</th>\n",
       "    </tr>\n",
       "  </thead>\n",
       "  <tbody>\n",
       "    <tr>\n",
       "      <th>0</th>\n",
       "      <td>1.663155e+18</td>\n",
       "      <td>2023-05-29 12:06:51+00:00</td>\n",
       "      <td>Locklyle_fan</td>\n",
       "      <td>RT @nelsonsdragon: Loved this edit since this ...</td>\n",
       "      <td>0.0</td>\n",
       "      <td>7.0</td>\n",
       "      <td>#AppleTVforLockwoodandCo</td>\n",
       "      <td>NaN</td>\n",
       "    </tr>\n",
       "    <tr>\n",
       "      <th>1</th>\n",
       "      <td>1.662960e+18</td>\n",
       "      <td>2023-05-28 23:13:22+00:00</td>\n",
       "      <td>Lockwood1494</td>\n",
       "      <td>RT @pao_morquecho: 💙🖤⚔️ #LockwoodandCoSeason2 ...</td>\n",
       "      <td>0.0</td>\n",
       "      <td>1.0</td>\n",
       "      <td>#AppleTVforLockwoodandCo</td>\n",
       "      <td>NaN</td>\n",
       "    </tr>\n",
       "    <tr>\n",
       "      <th>2</th>\n",
       "      <td>1.662960e+18</td>\n",
       "      <td>2023-05-28 23:12:20+00:00</td>\n",
       "      <td>pao_morquecho</td>\n",
       "      <td>💙🖤⚔️ #LockwoodandCoSeason2 #renewlockwoodandco...</td>\n",
       "      <td>1.0</td>\n",
       "      <td>1.0</td>\n",
       "      <td>#AppleTVforLockwoodandCo</td>\n",
       "      <td>NaN</td>\n",
       "    </tr>\n",
       "    <tr>\n",
       "      <th>3</th>\n",
       "      <td>1.662960e+18</td>\n",
       "      <td>2023-05-28 23:12:11+00:00</td>\n",
       "      <td>ali_coppola</td>\n",
       "      <td>RT @vansunshin3: has this been done yet? \\n#Sa...</td>\n",
       "      <td>0.0</td>\n",
       "      <td>64.0</td>\n",
       "      <td>#AppleTVforLockwoodandCo</td>\n",
       "      <td>NaN</td>\n",
       "    </tr>\n",
       "    <tr>\n",
       "      <th>4</th>\n",
       "      <td>1.662833e+18</td>\n",
       "      <td>2023-05-28 14:46:06+00:00</td>\n",
       "      <td>cxpectations</td>\n",
       "      <td>@evmcconnell I had that yesterday!!!😋 (bought ...</td>\n",
       "      <td>0.0</td>\n",
       "      <td>0.0</td>\n",
       "      <td>#AppleTVforLockwoodandCo</td>\n",
       "      <td>NaN</td>\n",
       "    </tr>\n",
       "    <tr>\n",
       "      <th>...</th>\n",
       "      <td>...</td>\n",
       "      <td>...</td>\n",
       "      <td>...</td>\n",
       "      <td>...</td>\n",
       "      <td>...</td>\n",
       "      <td>...</td>\n",
       "      <td>...</td>\n",
       "      <td>...</td>\n",
       "    </tr>\n",
       "    <tr>\n",
       "      <th>86737</th>\n",
       "      <td>1.660000e+18</td>\n",
       "      <td>2023-05-18 06:15:41+00:00</td>\n",
       "      <td>CreatureBuff</td>\n",
       "      <td>This article sums up the whole mess quite nice...</td>\n",
       "      <td>10.0</td>\n",
       "      <td>3.0</td>\n",
       "      <td>#HauntedbyaType3</td>\n",
       "      <td>NaN</td>\n",
       "    </tr>\n",
       "    <tr>\n",
       "      <th>86738</th>\n",
       "      <td>1.660000e+18</td>\n",
       "      <td>2023-05-18 06:01:38+00:00</td>\n",
       "      <td>CreatureBuff</td>\n",
       "      <td>WE WON'T LET YOU! #SaveLockwoodandCo \\n\\n#Haun...</td>\n",
       "      <td>6.0</td>\n",
       "      <td>1.0</td>\n",
       "      <td>#HauntedbyaType3</td>\n",
       "      <td>NaN</td>\n",
       "    </tr>\n",
       "    <tr>\n",
       "      <th>86739</th>\n",
       "      <td>1.660000e+18</td>\n",
       "      <td>2023-05-18 05:52:29+00:00</td>\n",
       "      <td>CreatureBuff</td>\n",
       "      <td>@hollowgirlhan Classic Rock\\n\\n#HauntedbyaType...</td>\n",
       "      <td>0.0</td>\n",
       "      <td>0.0</td>\n",
       "      <td>#HauntedbyaType3</td>\n",
       "      <td>NaN</td>\n",
       "    </tr>\n",
       "    <tr>\n",
       "      <th>86740</th>\n",
       "      <td>1.660000e+18</td>\n",
       "      <td>2023-05-18 05:46:09+00:00</td>\n",
       "      <td>CreatureBuff</td>\n",
       "      <td>Hey @carlyleandskull, today's hashtag is just ...</td>\n",
       "      <td>13.0</td>\n",
       "      <td>2.0</td>\n",
       "      <td>#HauntedbyaType3</td>\n",
       "      <td>NaN</td>\n",
       "    </tr>\n",
       "    <tr>\n",
       "      <th>86741</th>\n",
       "      <td>1.660000e+18</td>\n",
       "      <td>2023-05-18 05:40:57+00:00</td>\n",
       "      <td>CreatureBuff</td>\n",
       "      <td>@immzy_ Ok great, now I'm gonna have to finish...</td>\n",
       "      <td>11.0</td>\n",
       "      <td>1.0</td>\n",
       "      <td>#HauntedbyaType3</td>\n",
       "      <td>NaN</td>\n",
       "    </tr>\n",
       "  </tbody>\n",
       "</table>\n",
       "<p>86742 rows × 8 columns</p>\n",
       "</div>"
      ],
      "text/plain": [
       "           tweet_id                 created_at           user  \\\n",
       "0      1.663155e+18  2023-05-29 12:06:51+00:00   Locklyle_fan   \n",
       "1      1.662960e+18  2023-05-28 23:13:22+00:00   Lockwood1494   \n",
       "2      1.662960e+18  2023-05-28 23:12:20+00:00  pao_morquecho   \n",
       "3      1.662960e+18  2023-05-28 23:12:11+00:00    ali_coppola   \n",
       "4      1.662833e+18  2023-05-28 14:46:06+00:00   cxpectations   \n",
       "...             ...                        ...            ...   \n",
       "86737  1.660000e+18  2023-05-18 06:15:41+00:00   CreatureBuff   \n",
       "86738  1.660000e+18  2023-05-18 06:01:38+00:00   CreatureBuff   \n",
       "86739  1.660000e+18  2023-05-18 05:52:29+00:00   CreatureBuff   \n",
       "86740  1.660000e+18  2023-05-18 05:46:09+00:00   CreatureBuff   \n",
       "86741  1.660000e+18  2023-05-18 05:40:57+00:00   CreatureBuff   \n",
       "\n",
       "                                               full_text  favorite_count  \\\n",
       "0      RT @nelsonsdragon: Loved this edit since this ...             0.0   \n",
       "1      RT @pao_morquecho: 💙🖤⚔️ #LockwoodandCoSeason2 ...             0.0   \n",
       "2      💙🖤⚔️ #LockwoodandCoSeason2 #renewlockwoodandco...             1.0   \n",
       "3      RT @vansunshin3: has this been done yet? \\n#Sa...             0.0   \n",
       "4      @evmcconnell I had that yesterday!!!😋 (bought ...             0.0   \n",
       "...                                                  ...             ...   \n",
       "86737  This article sums up the whole mess quite nice...            10.0   \n",
       "86738  WE WON'T LET YOU! #SaveLockwoodandCo \\n\\n#Haun...             6.0   \n",
       "86739  @hollowgirlhan Classic Rock\\n\\n#HauntedbyaType...             0.0   \n",
       "86740  Hey @carlyleandskull, today's hashtag is just ...            13.0   \n",
       "86741  @immzy_ Ok great, now I'm gonna have to finish...            11.0   \n",
       "\n",
       "       retweet_count                  hashtags  tweet_df  \n",
       "0                7.0  #AppleTVforLockwoodandCo       NaN  \n",
       "1                1.0  #AppleTVforLockwoodandCo       NaN  \n",
       "2                1.0  #AppleTVforLockwoodandCo       NaN  \n",
       "3               64.0  #AppleTVforLockwoodandCo       NaN  \n",
       "4                0.0  #AppleTVforLockwoodandCo       NaN  \n",
       "...              ...                       ...       ...  \n",
       "86737            3.0          #HauntedbyaType3       NaN  \n",
       "86738            1.0          #HauntedbyaType3       NaN  \n",
       "86739            0.0          #HauntedbyaType3       NaN  \n",
       "86740            2.0          #HauntedbyaType3       NaN  \n",
       "86741            1.0          #HauntedbyaType3       NaN  \n",
       "\n",
       "[86742 rows x 8 columns]"
      ]
     },
     "execution_count": 24,
     "metadata": {},
     "output_type": "execute_result"
    }
   ],
   "source": [
    "working_df=pd.DataFrame()\n",
    "for hashtag in hashtagsall:\n",
    "    try:\n",
    "        working_df=pd.concat([working_df, pd.read_csv(f'tweeterhashtags/{hashtag}.csv')], ignore_index=True)\n",
    "    except:\n",
    "        pass\n",
    "working_df"
   ]
  },
  {
   "cell_type": "code",
   "execution_count": 25,
   "metadata": {},
   "outputs": [
    {
     "data": {
      "text/plain": [
       "0        RT @nelsonsdragon: Loved this edit since this ...\n",
       "1        RT @pao_morquecho: 💙🖤⚔️ #LockwoodandCoSeason2 ...\n",
       "2        💙🖤⚔️ #LockwoodandCoSeason2 #renewlockwoodandco...\n",
       "3        RT @vansunshin3: has this been done yet? \\n#Sa...\n",
       "4        @evmcconnell I had that yesterday!!!😋 (bought ...\n",
       "                               ...                        \n",
       "86737    This article sums up the whole mess quite nice...\n",
       "86738    WE WON'T LET YOU! #SaveLockwoodandCo \\n\\n#Haun...\n",
       "86739    @hollowgirlhan Classic Rock\\n\\n#HauntedbyaType...\n",
       "86740    Hey @carlyleandskull, today's hashtag is just ...\n",
       "86741    @immzy_ Ok great, now I'm gonna have to finish...\n",
       "Name: full_text, Length: 86742, dtype: object"
      ]
     },
     "execution_count": 25,
     "metadata": {},
     "output_type": "execute_result"
    }
   ],
   "source": [
    "working_df['full_text'] = working_df['full_text'].str.replace(r'\"', '')\n",
    "working_df['full_text']"
   ]
  },
  {
   "cell_type": "code",
   "execution_count": 26,
   "metadata": {},
   "outputs": [
    {
     "data": {
      "text/plain": [
       "True     47149\n",
       "False    39593\n",
       "Name: retweet, dtype: int64"
      ]
     },
     "execution_count": 26,
     "metadata": {},
     "output_type": "execute_result"
    }
   ],
   "source": [
    "# Create a new column 'retweet' with default value False\n",
    "working_df['retweet'] = False\n",
    "\n",
    "# Check if 'full_text' starts with 'RT ' and set 'retweet' column accordingly\n",
    "working_df.loc[working_df['full_text'].str.startswith('RT '), 'retweet'] = True\n",
    "\n",
    "working_df['retweet'].value_counts()"
   ]
  },
  {
   "cell_type": "code",
   "execution_count": 27,
   "metadata": {},
   "outputs": [],
   "source": [
    "import hashlib\n",
    "# Create a hash function to generate anonymized values\n",
    "def anonymize(value):\n",
    "    # Convert the value to a string and hash it using SHA256 algorithm\n",
    "    hashed_value = hashlib.sha256(str(value).encode()).hexdigest()\n",
    "    # Take the first 8 characters of the hash as the anonymized value\n",
    "    anonymized_value = hashed_value[:8]\n",
    "    return anonymized_value"
   ]
  },
  {
   "cell_type": "code",
   "execution_count": 28,
   "metadata": {},
   "outputs": [],
   "source": [
    "if 'anonymized_user' in working_df.columns:\n",
    "    working_df.drop('anonymized_user', axis=1, inplace=True)\n",
    "user_df = pd.DataFrame(working_df['user'].unique(), columns=['user'])\n",
    "user_df['anonymized_user'] = user_df['user'].apply(anonymize)\n",
    "working_df = working_df.merge(user_df, on='user', how='left')\n"
   ]
  },
  {
   "cell_type": "code",
   "execution_count": 29,
   "metadata": {},
   "outputs": [
    {
     "data": {
      "text/plain": [
       "Index(['tweet_id', 'created_at', 'user', 'full_text', 'favorite_count',\n",
       "       'retweet_count', 'hashtags', 'tweet_df', 'retweet', 'anonymized_user'],\n",
       "      dtype='object')"
      ]
     },
     "execution_count": 29,
     "metadata": {},
     "output_type": "execute_result"
    }
   ],
   "source": [
    "working_df.columns"
   ]
  },
  {
   "cell_type": "code",
   "execution_count": 36,
   "metadata": {},
   "outputs": [],
   "source": [
    "working_df.to_csv('tweets2205.csv', index=False)"
   ]
  },
  {
   "cell_type": "code",
   "execution_count": 27,
   "metadata": {},
   "outputs": [
    {
     "data": {
      "text/plain": [
       "56513"
      ]
     },
     "execution_count": 27,
     "metadata": {},
     "output_type": "execute_result"
    }
   ],
   "source": [
    "len(working_df)"
   ]
  },
  {
   "cell_type": "code",
   "execution_count": 52,
   "metadata": {},
   "outputs": [],
   "source": [
    "def get_week_basedontags(x):\n",
    "    if x in hashtagsweek1:\n",
    "        return 'week 1'\n",
    "    elif x in hashtagsweek2:\n",
    "        return 'week 2'\n",
    "    elif x in hashtagsweek3:\n",
    "        return 'week 3'"
   ]
  },
  {
   "cell_type": "code",
   "execution_count": 53,
   "metadata": {},
   "outputs": [
    {
     "data": {
      "text/plain": [
       "week 1    39843\n",
       "week 2    12768\n",
       "Name: week, dtype: int64"
      ]
     },
     "execution_count": 53,
     "metadata": {},
     "output_type": "execute_result"
    }
   ],
   "source": [
    "working_df['week']=working_df['hashtags'].apply(get_week_basedontags)\n",
    "working_df['week'].value_counts()"
   ]
  },
  {
   "cell_type": "code",
   "execution_count": 30,
   "metadata": {},
   "outputs": [],
   "source": [
    "working_df.to_csv('tweeterhashtags/tweets.csv', index=False)"
   ]
  },
  {
   "cell_type": "code",
   "execution_count": 75,
   "metadata": {},
   "outputs": [
    {
     "data": {
      "text/plain": [
       "hashtags\n",
       "#TogetherForLockwoodandCo    8396\n",
       "#HauntedWatchParty           7483\n",
       "#WatchPartyatPortlandRow     6560\n",
       "#PrimeForLockwoodandCo       6132\n",
       "#FridayNightatPortlandRow    5916\n",
       "#HauntedbyaType3             5355\n",
       "#JustRecklessEnough          3726\n",
       "#BBCforLockwoodandCo         3097\n",
       "#AppleTVforLockwoodandCo     2402\n",
       "#GhostHuntersWatchParty      2046\n",
       "#DisneyForLockwoodandCo      1246\n",
       "#BringBackLockwoodandCo       245\n",
       "dtype: int64"
      ]
     },
     "execution_count": 75,
     "metadata": {},
     "output_type": "execute_result"
    }
   ],
   "source": [
    "working_df.value_counts('hashtags')"
   ]
  }
 ],
 "metadata": {
  "kernelspec": {
   "display_name": "minimal_ds",
   "language": "python",
   "name": "python3"
  },
  "language_info": {
   "codemirror_mode": {
    "name": "ipython",
    "version": 3
   },
   "file_extension": ".py",
   "mimetype": "text/x-python",
   "name": "python",
   "nbconvert_exporter": "python",
   "pygments_lexer": "ipython3",
   "version": "3.10.0"
  },
  "orig_nbformat": 4
 },
 "nbformat": 4,
 "nbformat_minor": 2
}
