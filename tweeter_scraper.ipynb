{
 "cells": [
  {
   "cell_type": "code",
   "execution_count": 1,
   "metadata": {},
   "outputs": [],
   "source": [
    "import configparser\n",
    "import tweepy\n",
    "import pandas as pd\n",
    "import numpy as np\n",
    "from datetime import datetime, timedelta, timezone\n",
    "import time"
   ]
  },
  {
   "cell_type": "code",
   "execution_count": 2,
   "metadata": {},
   "outputs": [],
   "source": [
    "# get tokens\n",
    "config = configparser.ConfigParser()\n",
    "config.read('configfile.ini')\n",
    "api_key = config['twitter']['api_key']\n",
    "api_key_secret = config['twitter']['api_key_secret']\n",
    "# authenticate\n",
    "auth = tweepy.OAuth2AppHandler(api_key, api_key_secret)"
   ]
  },
  {
   "cell_type": "code",
   "execution_count": 3,
   "metadata": {},
   "outputs": [],
   "source": [
    "api = tweepy.API(auth, wait_on_rate_limit=True)"
   ]
  },
  {
   "cell_type": "code",
   "execution_count": 4,
   "metadata": {},
   "outputs": [],
   "source": [
    "def get_tweets_dataframe(working_df, tweets, hashtag):\n",
    "    #working_df=working_df.drop_duplicates()\n",
    "    index=len(working_df)\n",
    "    for tweet in tweets: \n",
    "        working_df.loc[index,'tweet_id']=tweet.id\n",
    "        working_df.loc[index,'created_at']=tweet.created_at\n",
    "        working_df.loc[index,'user']=tweet.user.screen_name\n",
    "        working_df.loc[index,'full_text']=tweet.full_text\n",
    "        working_df.loc[index,'favorite_count']=tweet.favorite_count\n",
    "        working_df.loc[index,'retweet_count']=tweet.retweet_count\n",
    "        working_df.loc[index,'hashtags']=hashtag\n",
    "        print(working_df.loc[index,'created_at'])\n",
    "        #working_df=working_df.drop_duplicates()\n",
    "        index+=1\n",
    "        working_df.to_csv(f'tweeterhashtags/{hashtag}.csv', index=False)\n",
    "        #time.sleep(1)\n",
    "    working_df=working_df.drop_duplicates()\n",
    "    working_df.to_csv(f'tweeterhashtags/{hashtag}.csv', index=False)               \n",
    "    return working_df"
   ]
  },
  {
   "cell_type": "code",
   "execution_count": 5,
   "metadata": {},
   "outputs": [],
   "source": [
    "hashtagsweek1 = ['#FridayNightatPortlandRow', '#HauntedWatchParty', '#WatchPartyatPortlandRow', '#HauntedbyaType3','#TogetherForLockwoodandCo','#PrimeForLockwoodandCo','#BringBackLockwoodandCo']\n",
    "hashtagsweek2 = ['#GhostHuntersWatchParty', '#DisneyForLockwoodandCo', '#BBCforLockwoodandCo', '#AppleTVforLockwoodandCo', '#PrimeForLockwoodandCo', '#JustRecklessEnough']\n",
    "hashtagsweek3 = ['#LockwoodGhostAuditions', '#ParamountForLockwoodandCo', '#ScullandCo','#RapiersReady', '#CaringforCarlyle', '#DEPRACisOnTheWay', '#BunsForBunchurch']\n",
    "hashtagsweek4 = ['#CompleteFictionAppreciation', '#DisneySaveLockwood', '#ArtistryofLockwoodandCo', '#ParamountSaveLockwood', '#GhostStrike', '#LockwoodParallelFandoms', '#JustRecklessEnough']\n",
    "hashtagsall = hashtagsweek1+hashtagsweek2+hashtagsweek3+hashtagsweek4\n",
    "hashtagsall = list(set(hashtagsall))"
   ]
  },
  {
   "cell_type": "code",
   "execution_count": 6,
   "metadata": {},
   "outputs": [
    {
     "name": "stdout",
     "output_type": "stream",
     "text": [
      "#CompleteFictionAppreciation\n",
      "4176\n",
      "2023-06-07 05:15:59+00:00\n",
      "2023-06-07 01:51:10+00:00\n",
      "2023-06-06 23:48:11+00:00\n",
      "2023-06-06 21:24:27+00:00\n",
      "2023-06-06 20:02:48+00:00\n",
      "2023-06-06 20:02:40+00:00\n",
      "4172\n",
      "created_at\n",
      "2023-06-04 00:00:00+00:00       7\n",
      "2023-06-05 00:00:00+00:00    3466\n",
      "2023-06-06 00:00:00+00:00     697\n",
      "2023-06-07 00:00:00+00:00       2\n",
      "Freq: D, Name: hashtags, dtype: int64\n",
      "#DisneySaveLockwood\n",
      "327\n",
      "327\n",
      "created_at\n",
      "2023-06-05 00:00:00+00:00      4\n",
      "2023-06-06 00:00:00+00:00    323\n",
      "Freq: D, Name: hashtags, dtype: int64\n",
      "#ArtistryofLockwoodandCo\n",
      "0\n",
      "0\n",
      "Series([], Freq: D, Name: hashtags, dtype: int64)\n",
      "#ParamountSaveLockwood\n",
      "0\n",
      "0\n",
      "Series([], Freq: D, Name: hashtags, dtype: int64)\n",
      "#GhostStrike\n",
      "0\n",
      "0\n",
      "Series([], Freq: D, Name: hashtags, dtype: int64)\n",
      "#LockwoodParallelFandoms\n",
      "0\n",
      "0\n",
      "Series([], Freq: D, Name: hashtags, dtype: int64)\n",
      "#JustRecklessEnough\n",
      "12329\n",
      "8720\n",
      "created_at\n",
      "2023-05-22 00:00:00+00:00      27\n",
      "2023-05-23 00:00:00+00:00       0\n",
      "2023-05-24 00:00:00+00:00       0\n",
      "2023-05-25 00:00:00+00:00       0\n",
      "2023-05-26 00:00:00+00:00      26\n",
      "2023-05-27 00:00:00+00:00    3242\n",
      "2023-05-28 00:00:00+00:00    4010\n",
      "2023-05-29 00:00:00+00:00    1240\n",
      "2023-05-30 00:00:00+00:00     117\n",
      "2023-05-31 00:00:00+00:00      15\n",
      "2023-06-01 00:00:00+00:00      15\n",
      "2023-06-02 00:00:00+00:00      11\n",
      "2023-06-03 00:00:00+00:00       7\n",
      "2023-06-04 00:00:00+00:00       2\n",
      "2023-06-05 00:00:00+00:00       8\n",
      "Freq: D, Name: hashtags, dtype: int64\n"
     ]
    }
   ],
   "source": [
    "hashtags=['#SaveLockwoodandCo']\n",
    "for hashtag in hashtagsweek4:\n",
    "    print(hashtag)\n",
    "    try:\n",
    "        working_df=pd.read_csv(f'tweeterhashtags/{hashtag}.csv')\n",
    "        #working_df = pd.read_csv('tweeterhashtags/#SkullandCo.csv')\n",
    "        print(len(working_df))\n",
    "    except:\n",
    "        working_df=pd.DataFrame(columns=['tweet_id','created_at', 'user', 'full_text','favorite_count','retweet_count','hashtags'])\n",
    "    tweets = tweepy.Cursor(api.search_tweets, q=hashtag, tweet_mode='extended').items()\n",
    "    working_df = get_tweets_dataframe(working_df, tweets, hashtag)\n",
    "    working_df=working_df.drop_duplicates()\n",
    "    print(len(working_df))\n",
    "    time.sleep(60)\n",
    "    working_df['created_at'] = pd.to_datetime(working_df['created_at'], utc=True)\n",
    "    # Group the DataFrame by day\n",
    "    grouped_df = working_df.groupby(pd.Grouper(key='created_at', freq='D'))\n",
    "\n",
    "    # Calculate the count of rows for each day\n",
    "    count_per_day = grouped_df['hashtags'].count()\n",
    "\n",
    "    # Display the count per day\n",
    "    print(count_per_day)\n"
   ]
  },
  {
   "cell_type": "code",
   "execution_count": 7,
   "metadata": {},
   "outputs": [
    {
     "data": {
      "text/html": [
       "<div>\n",
       "<style scoped>\n",
       "    .dataframe tbody tr th:only-of-type {\n",
       "        vertical-align: middle;\n",
       "    }\n",
       "\n",
       "    .dataframe tbody tr th {\n",
       "        vertical-align: top;\n",
       "    }\n",
       "\n",
       "    .dataframe thead th {\n",
       "        text-align: right;\n",
       "    }\n",
       "</style>\n",
       "<table border=\"1\" class=\"dataframe\">\n",
       "  <thead>\n",
       "    <tr style=\"text-align: right;\">\n",
       "      <th></th>\n",
       "      <th>tweet_id</th>\n",
       "      <th>created_at</th>\n",
       "      <th>user</th>\n",
       "      <th>full_text</th>\n",
       "      <th>favorite_count</th>\n",
       "      <th>retweet_count</th>\n",
       "      <th>hashtags</th>\n",
       "      <th>tweet_df</th>\n",
       "    </tr>\n",
       "  </thead>\n",
       "  <tbody>\n",
       "    <tr>\n",
       "      <th>0</th>\n",
       "      <td>1.663840e+18</td>\n",
       "      <td>2023-05-31 09:18:34+00:00</td>\n",
       "      <td>Lockwood1494</td>\n",
       "      <td>@Yourmother50 @ParamountUK @paramountplus Alre...</td>\n",
       "      <td>0.0</td>\n",
       "      <td>0.0</td>\n",
       "      <td>#SkullandCo</td>\n",
       "      <td>NaN</td>\n",
       "    </tr>\n",
       "    <tr>\n",
       "      <th>1</th>\n",
       "      <td>1.663840e+18</td>\n",
       "      <td>2023-05-31 09:18:16+00:00</td>\n",
       "      <td>lovinpages</td>\n",
       "      <td>RT @Earthling738: I have to say, this is still...</td>\n",
       "      <td>0.0</td>\n",
       "      <td>2.0</td>\n",
       "      <td>#SkullandCo</td>\n",
       "      <td>NaN</td>\n",
       "    </tr>\n",
       "    <tr>\n",
       "      <th>2</th>\n",
       "      <td>1.663840e+18</td>\n",
       "      <td>2023-05-31 09:17:55+00:00</td>\n",
       "      <td>Lockwood1494</td>\n",
       "      <td>RT @Earthling738: I have to say, this is still...</td>\n",
       "      <td>0.0</td>\n",
       "      <td>2.0</td>\n",
       "      <td>#SkullandCo</td>\n",
       "      <td>NaN</td>\n",
       "    </tr>\n",
       "    <tr>\n",
       "      <th>3</th>\n",
       "      <td>1.663840e+18</td>\n",
       "      <td>2023-05-31 09:16:30+00:00</td>\n",
       "      <td>nemesisn15</td>\n",
       "      <td>@alice_mirror_ @ababahalamaha Your edition is ...</td>\n",
       "      <td>1.0</td>\n",
       "      <td>0.0</td>\n",
       "      <td>#SkullandCo</td>\n",
       "      <td>NaN</td>\n",
       "    </tr>\n",
       "    <tr>\n",
       "      <th>4</th>\n",
       "      <td>1.663840e+18</td>\n",
       "      <td>2023-05-31 09:15:49+00:00</td>\n",
       "      <td>Earthling738</td>\n",
       "      <td>I have to say, this is still one of my favorit...</td>\n",
       "      <td>2.0</td>\n",
       "      <td>2.0</td>\n",
       "      <td>#SkullandCo</td>\n",
       "      <td>NaN</td>\n",
       "    </tr>\n",
       "    <tr>\n",
       "      <th>...</th>\n",
       "      <td>...</td>\n",
       "      <td>...</td>\n",
       "      <td>...</td>\n",
       "      <td>...</td>\n",
       "      <td>...</td>\n",
       "      <td>...</td>\n",
       "      <td>...</td>\n",
       "      <td>...</td>\n",
       "    </tr>\n",
       "    <tr>\n",
       "      <th>118802</th>\n",
       "      <td>1.665265e+18</td>\n",
       "      <td>2023-06-04 07:49:42+00:00</td>\n",
       "      <td>VicthoriaAnne</td>\n",
       "      <td>RT @junebugjan2: I love their dynamic so much\\...</td>\n",
       "      <td>0.0</td>\n",
       "      <td>20.0</td>\n",
       "      <td>#DEPRACisOnTheWay</td>\n",
       "      <td>NaN</td>\n",
       "    </tr>\n",
       "    <tr>\n",
       "      <th>118803</th>\n",
       "      <td>1.665264e+18</td>\n",
       "      <td>2023-06-04 07:48:55+00:00</td>\n",
       "      <td>VicthoriaAnne</td>\n",
       "      <td>RT @Lulu_Here_: AHHHHHHH keep sharing the peti...</td>\n",
       "      <td>0.0</td>\n",
       "      <td>8.0</td>\n",
       "      <td>#DEPRACisOnTheWay</td>\n",
       "      <td>NaN</td>\n",
       "    </tr>\n",
       "    <tr>\n",
       "      <th>118804</th>\n",
       "      <td>1.665264e+18</td>\n",
       "      <td>2023-06-04 07:46:08+00:00</td>\n",
       "      <td>emmyyyg__</td>\n",
       "      <td>RT @mixleven: i need more trio content, i’m de...</td>\n",
       "      <td>0.0</td>\n",
       "      <td>26.0</td>\n",
       "      <td>#DEPRACisOnTheWay</td>\n",
       "      <td>NaN</td>\n",
       "    </tr>\n",
       "    <tr>\n",
       "      <th>118805</th>\n",
       "      <td>1.665263e+18</td>\n",
       "      <td>2023-06-04 07:42:52+00:00</td>\n",
       "      <td>hollowgirlhan</td>\n",
       "      <td>RT @Iff_ustin: I got this!! Flattered cuz i fe...</td>\n",
       "      <td>0.0</td>\n",
       "      <td>1.0</td>\n",
       "      <td>#DEPRACisOnTheWay</td>\n",
       "      <td>NaN</td>\n",
       "    </tr>\n",
       "    <tr>\n",
       "      <th>118806</th>\n",
       "      <td>1.665261e+18</td>\n",
       "      <td>2023-06-04 07:34:25+00:00</td>\n",
       "      <td>CorneliaMiche20</td>\n",
       "      <td>RT @RebekahBlazek: Does Lucy have charms on he...</td>\n",
       "      <td>0.0</td>\n",
       "      <td>10.0</td>\n",
       "      <td>#DEPRACisOnTheWay</td>\n",
       "      <td>NaN</td>\n",
       "    </tr>\n",
       "  </tbody>\n",
       "</table>\n",
       "<p>118807 rows × 8 columns</p>\n",
       "</div>"
      ],
      "text/plain": [
       "            tweet_id                 created_at             user  \\\n",
       "0       1.663840e+18  2023-05-31 09:18:34+00:00     Lockwood1494   \n",
       "1       1.663840e+18  2023-05-31 09:18:16+00:00       lovinpages   \n",
       "2       1.663840e+18  2023-05-31 09:17:55+00:00     Lockwood1494   \n",
       "3       1.663840e+18  2023-05-31 09:16:30+00:00       nemesisn15   \n",
       "4       1.663840e+18  2023-05-31 09:15:49+00:00     Earthling738   \n",
       "...              ...                        ...              ...   \n",
       "118802  1.665265e+18  2023-06-04 07:49:42+00:00    VicthoriaAnne   \n",
       "118803  1.665264e+18  2023-06-04 07:48:55+00:00    VicthoriaAnne   \n",
       "118804  1.665264e+18  2023-06-04 07:46:08+00:00        emmyyyg__   \n",
       "118805  1.665263e+18  2023-06-04 07:42:52+00:00    hollowgirlhan   \n",
       "118806  1.665261e+18  2023-06-04 07:34:25+00:00  CorneliaMiche20   \n",
       "\n",
       "                                                full_text  favorite_count  \\\n",
       "0       @Yourmother50 @ParamountUK @paramountplus Alre...             0.0   \n",
       "1       RT @Earthling738: I have to say, this is still...             0.0   \n",
       "2       RT @Earthling738: I have to say, this is still...             0.0   \n",
       "3       @alice_mirror_ @ababahalamaha Your edition is ...             1.0   \n",
       "4       I have to say, this is still one of my favorit...             2.0   \n",
       "...                                                   ...             ...   \n",
       "118802  RT @junebugjan2: I love their dynamic so much\\...             0.0   \n",
       "118803  RT @Lulu_Here_: AHHHHHHH keep sharing the peti...             0.0   \n",
       "118804  RT @mixleven: i need more trio content, i’m de...             0.0   \n",
       "118805  RT @Iff_ustin: I got this!! Flattered cuz i fe...             0.0   \n",
       "118806  RT @RebekahBlazek: Does Lucy have charms on he...             0.0   \n",
       "\n",
       "        retweet_count           hashtags  tweet_df  \n",
       "0                 0.0        #SkullandCo       NaN  \n",
       "1                 2.0        #SkullandCo       NaN  \n",
       "2                 2.0        #SkullandCo       NaN  \n",
       "3                 0.0        #SkullandCo       NaN  \n",
       "4                 2.0        #SkullandCo       NaN  \n",
       "...               ...                ...       ...  \n",
       "118802           20.0  #DEPRACisOnTheWay       NaN  \n",
       "118803            8.0  #DEPRACisOnTheWay       NaN  \n",
       "118804           26.0  #DEPRACisOnTheWay       NaN  \n",
       "118805            1.0  #DEPRACisOnTheWay       NaN  \n",
       "118806           10.0  #DEPRACisOnTheWay       NaN  \n",
       "\n",
       "[118807 rows x 8 columns]"
      ]
     },
     "execution_count": 7,
     "metadata": {},
     "output_type": "execute_result"
    }
   ],
   "source": [
    "working_df=pd.DataFrame()\n",
    "for hashtag in hashtagsall:\n",
    "    try:\n",
    "        working_df=pd.concat([working_df, pd.read_csv(f'tweeterhashtags/{hashtag}.csv')], ignore_index=True)\n",
    "    except:\n",
    "        pass\n",
    "working_df"
   ]
  },
  {
   "cell_type": "code",
   "execution_count": 8,
   "metadata": {},
   "outputs": [
    {
     "data": {
      "text/plain": [
       "0         @Yourmother50 @ParamountUK @paramountplus Alre...\n",
       "1         RT @Earthling738: I have to say, this is still...\n",
       "2         RT @Earthling738: I have to say, this is still...\n",
       "3         @alice_mirror_ @ababahalamaha Your edition is ...\n",
       "4         I have to say, this is still one of my favorit...\n",
       "                                ...                        \n",
       "118802    RT @junebugjan2: I love their dynamic so much\\...\n",
       "118803    RT @Lulu_Here_: AHHHHHHH keep sharing the peti...\n",
       "118804    RT @mixleven: i need more trio content, i’m de...\n",
       "118805    RT @Iff_ustin: I got this!! Flattered cuz i fe...\n",
       "118806    RT @RebekahBlazek: Does Lucy have charms on he...\n",
       "Name: full_text, Length: 118807, dtype: object"
      ]
     },
     "execution_count": 8,
     "metadata": {},
     "output_type": "execute_result"
    }
   ],
   "source": [
    "working_df['full_text'] = working_df['full_text'].str.replace(r'\"', '')\n",
    "working_df['full_text']"
   ]
  },
  {
   "cell_type": "code",
   "execution_count": 9,
   "metadata": {},
   "outputs": [
    {
     "data": {
      "text/plain": [
       "True     62272\n",
       "False    56535\n",
       "Name: retweet, dtype: int64"
      ]
     },
     "execution_count": 9,
     "metadata": {},
     "output_type": "execute_result"
    }
   ],
   "source": [
    "# Create a new column 'retweet' with default value False\n",
    "working_df['retweet'] = False\n",
    "\n",
    "# Check if 'full_text' starts with 'RT ' and set 'retweet' column accordingly\n",
    "working_df.loc[working_df['full_text'].str.startswith('RT '), 'retweet'] = True\n",
    "\n",
    "working_df['retweet'].value_counts()"
   ]
  },
  {
   "cell_type": "code",
   "execution_count": 10,
   "metadata": {},
   "outputs": [],
   "source": [
    "import hashlib\n",
    "# Create a hash function to generate anonymized values\n",
    "def anonymize(value):\n",
    "    # Convert the value to a string and hash it using SHA256 algorithm\n",
    "    hashed_value = hashlib.sha256(str(value).encode()).hexdigest()\n",
    "    # Take the first 8 characters of the hash as the anonymized value\n",
    "    anonymized_value = hashed_value[:8]\n",
    "    return anonymized_value"
   ]
  },
  {
   "cell_type": "code",
   "execution_count": 11,
   "metadata": {},
   "outputs": [],
   "source": [
    "if 'anonymized_user' in working_df.columns:\n",
    "    working_df.drop('anonymized_user', axis=1, inplace=True)\n",
    "user_df = pd.DataFrame(working_df['user'].unique(), columns=['user'])\n",
    "user_df['anonymized_user'] = user_df['user'].apply(anonymize)\n",
    "working_df = working_df.merge(user_df, on='user', how='left')\n"
   ]
  },
  {
   "cell_type": "code",
   "execution_count": 12,
   "metadata": {},
   "outputs": [
    {
     "data": {
      "text/plain": [
       "Index(['tweet_id', 'created_at', 'user', 'full_text', 'favorite_count',\n",
       "       'retweet_count', 'hashtags', 'tweet_df', 'retweet', 'anonymized_user'],\n",
       "      dtype='object')"
      ]
     },
     "execution_count": 12,
     "metadata": {},
     "output_type": "execute_result"
    }
   ],
   "source": [
    "working_df.columns"
   ]
  },
  {
   "cell_type": "code",
   "execution_count": 13,
   "metadata": {},
   "outputs": [],
   "source": [
    "working_df.to_csv('tweets2205.csv', index=False)"
   ]
  },
  {
   "cell_type": "code",
   "execution_count": 14,
   "metadata": {},
   "outputs": [
    {
     "data": {
      "text/plain": [
       "118807"
      ]
     },
     "execution_count": 14,
     "metadata": {},
     "output_type": "execute_result"
    }
   ],
   "source": [
    "len(working_df)"
   ]
  },
  {
   "cell_type": "code",
   "execution_count": 15,
   "metadata": {},
   "outputs": [
    {
     "name": "stderr",
     "output_type": "stream",
     "text": [
      "/tmp/ipykernel_660/2145652280.py:2: FutureWarning: Series.dt.weekofyear and Series.dt.week have been deprecated.  Please use Series.dt.isocalendar().week instead.\n",
      "  working_df['week_number'] = working_df['created_date'].dt.week\n"
     ]
    },
    {
     "data": {
      "text/plain": [
       "20    45385\n",
       "21    35323\n",
       "22    33398\n",
       "23     4700\n",
       "19        1\n",
       "Name: week_number, dtype: int64"
      ]
     },
     "execution_count": 15,
     "metadata": {},
     "output_type": "execute_result"
    }
   ],
   "source": [
    "working_df['created_date'] = pd.to_datetime(working_df['created_at'], utc=True)\n",
    "working_df['week_number'] = working_df['created_date'].dt.week\n",
    "working_df['week_number'].value_counts()"
   ]
  },
  {
   "cell_type": "code",
   "execution_count": 16,
   "metadata": {},
   "outputs": [],
   "source": [
    "def get_week_label(week_number):\n",
    "    if week_number == 20:\n",
    "        return 'week1'\n",
    "    elif week_number == 21:\n",
    "        return 'week2'\n",
    "    elif week_number == 22:\n",
    "        return 'week3'\n",
    "    elif week_number == 23:\n",
    "        return 'week4'\n",
    "    else:\n",
    "        return 'week0'"
   ]
  },
  {
   "cell_type": "code",
   "execution_count": 17,
   "metadata": {},
   "outputs": [],
   "source": [
    "working_df['week_label'] = working_df['week_number'].apply(get_week_label)"
   ]
  },
  {
   "cell_type": "code",
   "execution_count": 18,
   "metadata": {},
   "outputs": [],
   "source": [
    "working_df.to_csv('tweeterhashtags/tweets.csv', index=False)"
   ]
  },
  {
   "cell_type": "code",
   "execution_count": 19,
   "metadata": {},
   "outputs": [
    {
     "data": {
      "text/plain": [
       "hashtags\n",
       "#PrimeForLockwoodandCo          15138\n",
       "#ParamountForLockwoodandCo      10736\n",
       "#TogetherForLockwoodandCo        9382\n",
       "#JustRecklessEnough              8720\n",
       "#BringBackLockwoodandCo          7746\n",
       "#LockwoodGhostAuditions          7122\n",
       "#RapiersReady                    6424\n",
       "#DisneyForLockwoodandCo          5843\n",
       "#HauntedbyaType3                 5810\n",
       "#BBCforLockwoodandCo             5391\n",
       "#WatchPartyatPortlandRow         5253\n",
       "#FridayNightatPortlandRow        5188\n",
       "#HauntedWatchParty               4837\n",
       "#AppleTVforLockwoodandCo         4830\n",
       "#GhostHuntersWatchParty          4240\n",
       "#CompleteFictionAppreciation     4172\n",
       "#CaringforCarlyle                3609\n",
       "#BunsForBunchurch                3243\n",
       "#DEPRACisOnTheWay                 612\n",
       "#DisneySaveLockwood               327\n",
       "#SkullandCo                       179\n",
       "#ScullandCo                         5\n",
       "dtype: int64"
      ]
     },
     "execution_count": 19,
     "metadata": {},
     "output_type": "execute_result"
    }
   ],
   "source": [
    "working_df.value_counts('hashtags')"
   ]
  },
  {
   "cell_type": "code",
   "execution_count": 20,
   "metadata": {},
   "outputs": [
    {
     "data": {
      "text/plain": [
       "hashtags\n",
       "#PrimeForLockwoodandCo          15138\n",
       "#TogetherForLockwoodandCo        9382\n",
       "#JustRecklessEnough              8720\n",
       "#BringBackLockwoodandCo          7746\n",
       "#ParamountForLockwoodandCo       7451\n",
       "#DisneyForLockwoodandCo          5812\n",
       "#HauntedbyaType3                 5807\n",
       "#BBCforLockwoodandCo             5358\n",
       "#FridayNightatPortlandRow        5187\n",
       "#WatchPartyatPortlandRow         5055\n",
       "#RapiersReady                    4916\n",
       "#LockwoodGhostAuditions          4867\n",
       "#HauntedWatchParty               4818\n",
       "#AppleTVforLockwoodandCo         4722\n",
       "#GhostHuntersWatchParty          4236\n",
       "#CompleteFictionAppreciation     4172\n",
       "#CaringforCarlyle                3554\n",
       "#BunsForBunchurch                3239\n",
       "#DEPRACisOnTheWay                 372\n",
       "#DisneySaveLockwood               327\n",
       "#SkullandCo                       179\n",
       "#ScullandCo                         3\n",
       "dtype: int64"
      ]
     },
     "execution_count": 20,
     "metadata": {},
     "output_type": "execute_result"
    }
   ],
   "source": [
    "try_df = working_df.drop_duplicates()\n",
    "try_df.value_counts('hashtags')"
   ]
  }
 ],
 "metadata": {
  "kernelspec": {
   "display_name": "minimal_ds",
   "language": "python",
   "name": "python3"
  },
  "language_info": {
   "codemirror_mode": {
    "name": "ipython",
    "version": 3
   },
   "file_extension": ".py",
   "mimetype": "text/x-python",
   "name": "python",
   "nbconvert_exporter": "python",
   "pygments_lexer": "ipython3",
   "version": "3.10.0"
  },
  "orig_nbformat": 4
 },
 "nbformat": 4,
 "nbformat_minor": 2
}
