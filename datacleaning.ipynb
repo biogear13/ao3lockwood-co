{
 "cells": [
  {
   "cell_type": "code",
   "execution_count": 1,
   "metadata": {},
   "outputs": [],
   "source": [
    "import pandas as pd\n",
    "import numpy as np"
   ]
  },
  {
   "cell_type": "code",
   "execution_count": 2,
   "metadata": {},
   "outputs": [],
   "source": [
    "working_df = pd.read_csv('ao3_lockwood_and_co_ao_21042023_1857.csv')"
   ]
  },
  {
   "cell_type": "code",
   "execution_count": 5,
   "metadata": {},
   "outputs": [
    {
     "data": {
      "text/plain": [
       "Index(['link', 'title', 'author', 'published', 'updatedate', 'chapters',\n",
       "       'language', 'words', 'kudos', 'comments', 'bookmarks', 'hits',\n",
       "       'warning', 'mainship', 'relationship', 'characters', 'tags', 'summary',\n",
       "       'rating', 'chapter', 'chapter_max', 'completion'],\n",
       "      dtype='object')"
      ]
     },
     "execution_count": 5,
     "metadata": {},
     "output_type": "execute_result"
    }
   ],
   "source": [
    "working_df.columns"
   ]
  },
  {
   "attachments": {},
   "cell_type": "markdown",
   "metadata": {},
   "source": [
    "change published and updatedate into datetime"
   ]
  },
  {
   "cell_type": "code",
   "execution_count": 6,
   "metadata": {},
   "outputs": [],
   "source": [
    "working_df['published'] = pd.to_datetime(working_df['published'])\n",
    "working_df['updatedate'] = pd.to_datetime(working_df['updatedate'])"
   ]
  },
  {
   "cell_type": "code",
   "execution_count": 8,
   "metadata": {},
   "outputs": [
    {
     "data": {
      "text/plain": [
       "0      2023-04-21\n",
       "1      2023-04-21\n",
       "2      2023-04-21\n",
       "3      2023-04-21\n",
       "4      2023-04-21\n",
       "          ...    \n",
       "1318   2023-04-21\n",
       "1319   2023-04-21\n",
       "1320   2023-04-21\n",
       "1321   2023-04-21\n",
       "1322   2023-04-21\n",
       "Name: currentdate, Length: 1323, dtype: datetime64[ns]"
      ]
     },
     "execution_count": 8,
     "metadata": {},
     "output_type": "execute_result"
    }
   ],
   "source": [
    "working_df['currentdate'] = max(working_df['updatedate'])\n",
    "working_df['currentdate']"
   ]
  },
  {
   "cell_type": "code",
   "execution_count": 10,
   "metadata": {},
   "outputs": [
    {
     "data": {
      "text/plain": [
       "0          0.0\n",
       "1          0.0\n",
       "2          0.0\n",
       "3          0.0\n",
       "4          0.0\n",
       "         ...  \n",
       "1318    2934.0\n",
       "1319    3062.0\n",
       "1320    3334.0\n",
       "1321    3362.0\n",
       "1322    3413.0\n",
       "Name: datediff, Length: 1323, dtype: float64"
      ]
     },
     "execution_count": 10,
     "metadata": {},
     "output_type": "execute_result"
    }
   ],
   "source": [
    "working_df['datediff'] = (working_df['currentdate']-working_df['updatedate'])/np.timedelta64(1,'D')\n",
    "working_df['datediff']"
   ]
  },
  {
   "cell_type": "code",
   "execution_count": 19,
   "metadata": {},
   "outputs": [
    {
     "data": {
      "text/plain": [
       "0       multichapter(updating)\n",
       "1       multichapter(updating)\n",
       "2                      oneshot\n",
       "3       multichapter(updating)\n",
       "4                      oneshot\n",
       "                 ...          \n",
       "1318                   oneshot\n",
       "1319    multichapter(complete)\n",
       "1320    multichapter(complete)\n",
       "1321                   oneshot\n",
       "1322                   oneshot\n",
       "Name: classification, Length: 1323, dtype: object"
      ]
     },
     "execution_count": 19,
     "metadata": {},
     "output_type": "execute_result"
    }
   ],
   "source": [
    "working_df['classification'] = working_df.apply(lambda row: 'oneshot' if row['chapter_max']=='1' else ('multichapter(complete)' if row['completion']=='completed' else ('multichapter(updating)' if row['datediff']<=60 else 'multichapter(dormant)')), axis=1)\n",
    "working_df['classification']"
   ]
  },
  {
   "cell_type": "code",
   "execution_count": 33,
   "metadata": {},
   "outputs": [
    {
     "data": {
      "text/plain": [
       "array(['Explicit', 'General Audiences', 'Mature', 'Not Rated',\n",
       "       'Teen And Up Audiences'], dtype=object)"
      ]
     },
     "execution_count": 33,
     "metadata": {},
     "output_type": "execute_result"
    }
   ],
   "source": [
    "np.sort(working_df['rating'].unique())"
   ]
  },
  {
   "cell_type": "code",
   "execution_count": 61,
   "metadata": {},
   "outputs": [
    {
     "name": "stdout",
     "output_type": "stream",
     "text": [
      "['', 'Niel Clarke', 'Mentioned Flo Bones - Character', 'Thor (Marvel)', 'Cassandra Cain', 'George Karim', 'Mr Jacobs (Lockwood & Co.)', 'Ezekiel', 'Lilly Lockwood', 'Skully (Lockwood and Co.)', 'Kate Godwin', 'Maedhros | Maitimo', 'Tim Stoker (The Magnus Archives)', 'GeorgeNotFound (Video Blogging RPF)', 'Marissa Fittes', 'Diana Farley', 'Antony Lockwood', 'Anthony Lockwood', '(Briefly) George Cubbins', 'Original Non-Binary Character', 'Piper McLean', 'Maid Marian', 'Bartimaeus (Bartimaeus)', 'Tom Riddle', 'Penelope Fittes', 'George Karim (mentioned)', 'Hannibal Lecter', 'mainly them idk', 'the two of them are sort of in it', 'Kingsley Shacklebolt', 'Robin (Lockwood & Co.)', 'Shane Madej', '(Mentioned) Bubs', 'Annabel Ward', 'Owen Conners', 'Tiberias Cal Calore VII', 'Dick Grayson', 'Finland (Hetalia)', '(Mentioned) Hera Syndulla', 'Nicky Hemmick', 'Norrie Whites Mother', 'George Cubbins Mother', 'Violet Bridgerton', 'Norrie White (mentioned)', 'Scarlett McCain', 'Mentioned Quill Kipps', 'Lucy Carlyles Father', 'Steve Rotwell', 'June Del Toro', 'Celia Lockwood', 'Danny Fenton', 'George Cubbins | George Karim', 'Steve Rogers', 'Ron Weasley', 'Fred Porlock (Yuukoku no Moriarty)', 'Other Carlyle Sisters', 'mentioned Anthony Lockwood', 'Ned Shaw (mentioned)', 'Aerith Gainsborough', 'Percy Jackson', 'Nathaniel (Bartimaeus)', 'Beverly Katz', 'Blaise Zabini', 'The Skull (Cameo)', 'Hanatamago (Hetalia)', '(Mentioned) Jessica Lockwood', 'Travis Stoll', 'Sam Winchester', 'portland row', 'Margaret Fittes', 'Seborga (Hetalia)', 'Aaron Minyard', 'Natasha Romanov (Marvel)', '(implied) - Character', 'Tachibana Makoto', 'Robin (Lockwood & Co)', 'Mentioned Ned Shaw', 'Jem Carstairs', 'Aaron Hotchner', 'OCs', 'Irrelevant OC - Character', 'That Green Gentleman', 'Jason Todd', 'Colin Bridgerton', 'John Fairfax', 'Skully', 'Will Graham', 'Neil Josten', 'Lyra Belacqua', 'Uncle Lockwood', 'Hazel Wong', 'i couldnt leave him out', 'Kipps and his crew', 'Gawain Robards', 'Hugo Blake', 'Holly Munro mentions', 'Tamsyn', 'Lieutenant Wade', 'Pepper Potts', 'Guy of Gisborne', 'Original character Nickan Karim', 'Clay | Dream (Video Blogging RPF)', 'Lucy Carlyle (Briefly)', 'Edmund Bridgerton II', 'Allan-a-Dale', 'The Skull', 'ups spoilers I gues', 'Aikemere', 'Litany_Riddle (Fandom RPF)', 'Spencer Reid', '(also mentioned)', 'Henry Granville', 'Arif (Lockwood & Co.)', 'everyone', 'Elodie LaBerge', 'Cloud Strife', 'Theodore Nott', 'Mrs. Cubbins', 'Mrs. Carlyle', '(Briefly) Quill Kipps', 'Gregory Bridgerton', 'Enoch OConnor', 'Fiona Frauenfeld', '(the last three are only mentioned)', 'Bobby Vernon', 'Mr. Mullet', 'Penelope Fittes (mentioned)', 'Argus Filch', 'Cyborg (Character)', 'Kat Godwin (friendship implied)', 'Albus Dumbledore', 'Jimmy Price', '(briefly)', 'Simber (The Unwanteds)', 'Kitty Jones', 'Brian Zeller', 'Rory Kipps', 'Connie Lionheart', 'Draco Malfoy', 'Norrie Whites Parents', 'Annabelle Ward', 'Toby Smith | Tubbo', 'Mary Carlyle', 'Lil Tom', 'Paul Bell', 'Background & Cameo Characters', 'Holly Munroe (mentioned)', 'Hollys Girlfriend', 'Montagu Barnes', 'will add others when i write a chapter for them', 'Bruce Banner', 'Skull - Character', 'Ranboo (Video Blogging RPF)', 'Jacobs & co', 'The Duke (Resident Evil)', 'Golden Blade (Lockwood & Co.)', 'Alfred Pennyworth', 'Nakajima Atsushi (Bungou Stray Dogs)', 'Damian Wayne', 'Daphne Bridgerton', 'George Cubbins | George Karim (mentioned)', 'Duke Thomas', 'Edmund Bickerstaff', 'Anton Shastun', 'jessica lockwood- mentioned', 'Zack Fair', 'Bruce Wayne', 'Original Cat Character(s)', 'locklyle week 2023 - Character', 'probs some others that Im missing', 'Alfie Morgan', 'Named extras now', 'a random character whos nose gets broken', 'their kids', 'Yamazaki Sousuke', 'Mrs Norris (Harry Potter)', 'Will Parry', 'Leo Valdez', 'Lucy Carlyles Sisters', 'Jessica Lockwood', 'Robin Hood', 'Number Five | The Boy (Umbrella Academy)', 'Demon cats (Scandinavia and the World)', 'George Cubbin’s Father', 'You/Reader', 'Montague Barnes', 'Paul Bell (mentioned)', 'Hyacinth Bridgerton', 'lucy carlyles mother- mentioned', 'Edmund Bridgerton', 'Joy Young', 'Holly Munros Girlfriend', 'Simon Basset', 'Rupert Gale', 'Mare Barrow', 'mentioned - Character', 'Erik Klose', 'Anthony Lockwood (Briefly)', 'others - Character', 'lockwoods parents- mentioned', 'Joy Young (mentioned)', 'Inspector Barnes', 'George cubbins is honourably mentioned', 'Sergeant Wade (Lockwood & Co.)', 'Sam Tyler', 'Donald Lockwood (Briefly)', 'Sherlock Holmes (Yuukoku no Moriarty)', 'George’s brothers', 'Basira Hussain', 'Johannes Cabal', 'Mentioned Bobby Vernon', '(Mentioned) Celia Lockwood', 'Gwenyth Thompson (OC)', 'Angie (Resident Evil)', 'Neville Longbottom', 'Apollo (Percy Jackson)', 'Sealand (Hetalia)', 'Daisy Wells', 'Wade (Barnes associate)', 'Eloise Bridgerton', 'George Cubbins | George Karims Mother', 'Holly Munro', 'Guppy - Character', 'Horst Cabal', 'Grand Inquisitor', 'Albert Browne', 'Holly Munro (mentioned)', 'Keith (Voltron)', '(Mentioned) Holly Munro', 'Bickerstaff', 'Holly (mentioned)', 'Marissa Fittes (mentioned)', 'Hugh Apiston', 'Robert Cooke', 'OC - Character', '(barely) - Character', 'Tessa Gray', 'George Cubbins | George Karim’s Mother', 'The Inadvisably Big Dog (Sunless Skies)', 'jake the cab driver', 'Minor Characters', 'Bill Walker (hes mentioned like once in tss and i had to make up a last name)', 'George Cubbins', 'Julie (Lockwood&Co.)', 'Dazai Osamu (Bungou Stray Dogs)', 'Ezekiel (Lockwood & Co.)', 'Merlin (Merlin)', 'Leopold Winkman', 'Ptolemy (Bartimaeus)', 'Unnamed Extras', 'Albert Joplin | Pamela Joplin', 'Alcina Dimitrescu', 'Pansy Parkinson', 'Flo Bones', 'Donna Beneviento', 'Bridgerton Siblings (Bridgerton)', 'Peter Parker', 'Wilbur Soot', 'Gaius Cassius Longinus (d. 42 BCE)', 'Julius Caesar', 'Ghosts (Character)', 'Anthony Bridgerton', 'George (mentioned) - Character', 'Tifa Lockhart', 'georges mum', 'La Belle Dame Sans Merci (in a dream)', 'Hermione Granger', 'Nico Minoru', 'Alcina Dimitrescus Daughters', 'Kat Godwin', 'Karl Heisenberg', 'Pidge | Katie Holt', 'Vivi the eevee', 'Lady Danbury (Bridgerton)', 'Skull in a Jar', 'Julian Ward', 'Mentioned Holly Munro', 'Mentioned Kat Godwin', 'George Cubbins (referenced)', 'Lucy Granville', 'Bobby Vernin', 'Ryan Bergara', 'Marian of Knighton', 'Original Male Character(s)', 'Harry Potter', 'The Disreputable Dog | Kibeth', 'Deryn Sharp', 'Inspecter Barnes', '(Cameo)', 'Aziraphale (Good Omens)', 'Quill Kipps', 'Annie Ward', 'small skull mention', '(mentioned)', 'Billy the Kid (Yuukoku no Moriarty)', 'mentioned only - Character', 'Michael Vey - Character', 'Kevin Day', 'Rex Salazar', 'Adult Lucy - Character', 'Alfie Morgan (mentioned)', 'Peter Hale', 'Fetch - Character', 'Lockwood & Co. Members', 'Montagu Barnes (mentioned)', 'Anthony Lockwood (mentioned)', 'Tracey Davis (Harry Potter)', 'Phil Watson | Philza', 'The mysterious Uncle', 'Not Enough Kipps', 'Sophie Foster (Keeper of the Lost Cities)', 'mentioned Norrie White', 'Kunikida Doppo (Bungou Stray Dogs)', 'Amina El Maghrabi', 'TommyInnit (Video Blogging RPF)', 'Claire Densmore', 'William James Moriarty (Yuukoku no Moriarty)', 'Lew Tufnell', 'Mary Carlyle (Mentioned) - Character', 'barnes is their dad', 'Tom Rotwell', 'Clint Barton', 'Penelope Featherington', 'Arif', 'Kat Loving', 'Quill Kipps (cameo)', '(also just mentioned)', 'the other Carlyle sisters', 'Donald Lockwood', 'Mentioned Skull (Lockwood & Co)', 'Sloane Kavanagh (OC)', 'norrie white- mentioned', 'Lockwood and Co. - Character', 'Author - Character', '(Mentioned) Donald Lockwood', 'Mr Jacobs', 'Abigail Hobbs', 'Other Character Tags to Be Added', 'George Cubbins (Briefly)', 'Jessica Lockwood (mentioned)', 'Annabeth Chase (Percy Jackson)', 'Arseny Popov', 'George Cubbins (mentioned)', 'skully boi', 'some ocs I made for worldbuilding purposes', 'Mentioned George Cubbins | George Karim', 'Louis James Moriarty (Yuukoku no Moriarty)', 'Asmira (Bartimaeus)', 'Julius Winkman', 'Mother Miranda (Resident Evil)', 'Wouldn’t be complete without Our friendly neighborhood skull', 'Lucys Sisters', 'Sir Rupert Gale', 'Anthony Lockwod', 'Pantalaimon (HDM)', 'Myself', 'Nigel “Gravedigger” Sikes', 'Solomon Guppy', 'Tony Stark', 'Georges mother is mentioned a ton but I kick you out before you see her', 'Norrie White', 'other random side characters ig', 'The skull also appears', 'I think thats all the named characters in this one', 'lucy carlyles family', 'Queen Elizabeth', 'Salvatore Moreau', 'Tim Drake', 'The Golden Blade', 'Featherington Family (Bridgerton)', 'Martin Blackwood', 'Sirius Black', 'Lucy Carlyles Mother (mentioned)', 'Anne Boleyn', 'the skull (mentioned)', 'Andrew Minyard', 'Regulus Black', 'Ned Shaw', 'Original Female Character(s)', 'basically everyone ever mentioned tbh', 'Tenth Doctor', 'Kate Sheffield | Kate Sharma', 'Adult Lockwood', 'Bridgerton Family (Bridgerton)', 'Percy Grebe', 'The Skull (Lockwood & Co.) - mentioned', 'The Judicious Driver', 'ghosts - Character', 'Bartimaeus', '35 Portland Row - Character', 'Magnus Bane', 'Mentioned Penelope Fittes', 'Quill Kipps (mentioned)', 'brief mention of Skull', 'Benedict Bridgerton', 'Original Child Character(s)', 'Lucy Carlyle', 'The Skull (Lockwood & Co)', 'Harold Mailer', 'Dean Winchester', 'Connor Stoll', 'Mrs Cubbins', 'Alec Lightwood', 'Severus Snape', 'Celia Lockwood (Briefly)', '(Briefly) Holly Munro', 'Charlie Weasley', 'Crowley (Good Omens)', 'Lucy Carlyle (mentioned)', 'Leonie Barrow', 'Adelaide Winkman', 'Nico di Angelo', 'Lucy Carlyles Mother', 'Iceland (Scandinavia and the World)', 'Gravedigger Sykes', 'Edwina Sheffield | Edwina Sharma', 'The Skull (Lockwood & Co.)', 'Reader', 'Alcatraz Smedry', 'Aleksander of Hohenburg', 'Albert Joplin', 'Much the Millers Son', 'Original Female Character', 'Sapnap (Video Blogging RPF)', 'Original Ghost Character', 'Dad', 'Adora (She-Ra)', 'Jack Crawford', 'Alma Peregrine', 'various original background randos', 'Technoblade (Video Blogging RPF)', 'Will Scarlett', 'the Jacobs crew', 'Melanie King', 'Francesca Bridgerton', 'dad!barnes - Character', 'Inspector Barnes (Lockwood & Co)', 'Mr Jacobs (Lockwood&Co.)', 'The Skull in the Jar', 'florence bonnard', 'Original Characters', 'Djaq (Robin Hood 2006)', 'Lady Whistledown (Bridgerton)', 'Lucys Mother']\n"
     ]
    }
   ],
   "source": [
    "characters=[]\n",
    "for char in working_df['characters']:\n",
    "    character_list = char.replace(\"[\",\"\").replace(\"]\",\"\").replace(\"'\",\"\").replace('\"','').split(\",\")\n",
    "    for c in character_list:\n",
    "        characters.append(c.strip())\n",
    "print(list(set(characters)))"
   ]
  },
  {
   "cell_type": "code",
   "execution_count": 48,
   "metadata": {},
   "outputs": [
    {
     "data": {
      "text/plain": [
       "\"'\""
      ]
     },
     "execution_count": 48,
     "metadata": {},
     "output_type": "execute_result"
    }
   ],
   "source": [
    "working_df['characters'][0][1]"
   ]
  },
  {
   "cell_type": "code",
   "execution_count": 62,
   "metadata": {},
   "outputs": [],
   "source": [
    "working_df.to_csv('ao3_lockwood_and_co_ao_21042023_1857.csv', index=False)"
   ]
  },
  {
   "cell_type": "markdown",
   "metadata": {},
   "source": []
  }
 ],
 "metadata": {
  "kernelspec": {
   "display_name": "minimal_ds",
   "language": "python",
   "name": "python3"
  },
  "language_info": {
   "codemirror_mode": {
    "name": "ipython",
    "version": 3
   },
   "file_extension": ".py",
   "mimetype": "text/x-python",
   "name": "python",
   "nbconvert_exporter": "python",
   "pygments_lexer": "ipython3",
   "version": "3.10.0"
  },
  "orig_nbformat": 4
 },
 "nbformat": 4,
 "nbformat_minor": 2
}
