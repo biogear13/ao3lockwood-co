{
 "cells": [
  {
   "cell_type": "code",
   "execution_count": 2,
   "metadata": {},
   "outputs": [],
   "source": [
    "import configparser\n",
    "import tweepy\n",
    "import pandas as pd\n",
    "import numpy as np\n",
    "from datetime import datetime, timedelta, timezone\n",
    "import time"
   ]
  },
  {
   "cell_type": "code",
   "execution_count": 11,
   "metadata": {},
   "outputs": [],
   "source": [
    "#Get the ~SaveLockwoodandCo.csv~ file\n",
    "working_df = pd.read_csv('tweeterhashtags/#SaveLockwoodandCo.csv')"
   ]
  },
  {
   "cell_type": "code",
   "execution_count": 13,
   "metadata": {},
   "outputs": [
    {
     "name": "stderr",
     "output_type": "stream",
     "text": [
      "/tmp/ipykernel_1424/4148808781.py:5: SettingWithCopyWarning: \n",
      "A value is trying to be set on a copy of a slice from a DataFrame.\n",
      "Try using .loc[row_indexer,col_indexer] = value instead\n",
      "\n",
      "See the caveats in the documentation: https://pandas.pydata.org/pandas-docs/stable/user_guide/indexing.html#returning-a-view-versus-a-copy\n",
      "  hashtag_df['hashtags'] = hashtag\n"
     ]
    },
    {
     "data": {
      "text/html": [
       "<div>\n",
       "<style scoped>\n",
       "    .dataframe tbody tr th:only-of-type {\n",
       "        vertical-align: middle;\n",
       "    }\n",
       "\n",
       "    .dataframe tbody tr th {\n",
       "        vertical-align: top;\n",
       "    }\n",
       "\n",
       "    .dataframe thead th {\n",
       "        text-align: right;\n",
       "    }\n",
       "</style>\n",
       "<table border=\"1\" class=\"dataframe\">\n",
       "  <thead>\n",
       "    <tr style=\"text-align: right;\">\n",
       "      <th></th>\n",
       "      <th>tweet_id</th>\n",
       "      <th>created_at</th>\n",
       "      <th>user</th>\n",
       "      <th>full_text</th>\n",
       "      <th>favorite_count</th>\n",
       "      <th>retweet_count</th>\n",
       "      <th>hashtags</th>\n",
       "    </tr>\n",
       "  </thead>\n",
       "  <tbody>\n",
       "    <tr>\n",
       "      <th>13642</th>\n",
       "      <td>1.664212e+18</td>\n",
       "      <td>2023-06-01 10:08:31+00:00</td>\n",
       "      <td>AndreaDuka2356</td>\n",
       "      <td>For me, this is more the \"I know I shouldn't, ...</td>\n",
       "      <td>0.0</td>\n",
       "      <td>0.0</td>\n",
       "      <td>#ScullandCo</td>\n",
       "    </tr>\n",
       "    <tr>\n",
       "      <th>33477</th>\n",
       "      <td>1.664212e+18</td>\n",
       "      <td>2023-06-01 10:08:31+00:00</td>\n",
       "      <td>AndreaDuka2356</td>\n",
       "      <td>For me, this is more the \"I know I shouldn't, ...</td>\n",
       "      <td>0.0</td>\n",
       "      <td>0.0</td>\n",
       "      <td>#ScullandCo</td>\n",
       "    </tr>\n",
       "    <tr>\n",
       "      <th>36337</th>\n",
       "      <td>1.663939e+18</td>\n",
       "      <td>2023-05-31 16:03:04+00:00</td>\n",
       "      <td>Knihomolka_yaf</td>\n",
       "      <td>@lockwoodandco13 thank you😭 #SaveLockwoodandCo...</td>\n",
       "      <td>1.0</td>\n",
       "      <td>0.0</td>\n",
       "      <td>#ScullandCo</td>\n",
       "    </tr>\n",
       "  </tbody>\n",
       "</table>\n",
       "</div>"
      ],
      "text/plain": [
       "           tweet_id                 created_at            user  \\\n",
       "13642  1.664212e+18  2023-06-01 10:08:31+00:00  AndreaDuka2356   \n",
       "33477  1.664212e+18  2023-06-01 10:08:31+00:00  AndreaDuka2356   \n",
       "36337  1.663939e+18  2023-05-31 16:03:04+00:00  Knihomolka_yaf   \n",
       "\n",
       "                                               full_text  favorite_count  \\\n",
       "13642  For me, this is more the \"I know I shouldn't, ...             0.0   \n",
       "33477  For me, this is more the \"I know I shouldn't, ...             0.0   \n",
       "36337  @lockwoodandco13 thank you😭 #SaveLockwoodandCo...             1.0   \n",
       "\n",
       "       retweet_count     hashtags  \n",
       "13642            0.0  #ScullandCo  \n",
       "33477            0.0  #ScullandCo  \n",
       "36337            0.0  #ScullandCo  "
      ]
     },
     "execution_count": 13,
     "metadata": {},
     "output_type": "execute_result"
    }
   ],
   "source": [
    "hashtag = '#ScullandCo'\n",
    "#Get the rows in the working_df that have the hashtag inside the full_text column\n",
    "hashtag_df = working_df[working_df['full_text'].str.contains(hashtag)]\n",
    "#hashtag_df = hashtag_df.reset_index(drop=True)\n",
    "hashtag_df['hashtags'] = hashtag\n",
    "hashtag_df"
   ]
  }
 ],
 "metadata": {
  "kernelspec": {
   "display_name": "minimal_ds",
   "language": "python",
   "name": "python3"
  },
  "language_info": {
   "codemirror_mode": {
    "name": "ipython",
    "version": 3
   },
   "file_extension": ".py",
   "mimetype": "text/x-python",
   "name": "python",
   "nbconvert_exporter": "python",
   "pygments_lexer": "ipython3",
   "version": "3.10.0"
  },
  "orig_nbformat": 4
 },
 "nbformat": 4,
 "nbformat_minor": 2
}
